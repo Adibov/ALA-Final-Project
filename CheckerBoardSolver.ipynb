{
 "cells": [
  {
   "cell_type": "markdown",
   "id": "08141bfa",
   "metadata": {},
   "source": [
    "# Checker Board Solver\n",
    "The following code offers an solution to the given problem located in `Description.pdf` file. Long story short, we have a checker board with some initial state. By clicking each cell, that cell and all its adjacent cells' color will be flipped. The goal is to make all cells to have the same color.\n",
    "\n",
    "To solve this, we construct a vector _X_ which is unknown and the i-th entry will be zero if the corresponding cell in board doesn't need to be switched and one otherwise. The goal is to find this vector. By multiplying this vector by a matrix (let's say _A_) and setting each of its element to an appropriate value, this will results into a linear equation which will be solved by row reduction (also there are some tips around finding solution, because of the bounded assumptions)."
   ]
  },
  {
   "cell_type": "markdown",
   "id": "409fffbd",
   "metadata": {},
   "source": [
    "## Import required libraries"
   ]
  },
  {
   "cell_type": "code",
   "execution_count": 2,
   "id": "2d6cc1cb",
   "metadata": {},
   "outputs": [],
   "source": [
    "import numpy as np"
   ]
  },
  {
   "cell_type": "markdown",
   "id": "9f2e7817",
   "metadata": {},
   "source": [
    "## Set problem's inputs"
   ]
  },
  {
   "cell_type": "code",
   "execution_count": 65,
   "id": "d2b970dc",
   "metadata": {},
   "outputs": [],
   "source": [
    "cells = [\n",
    "    [1, 1, 0],\n",
    "    [1, 0, 0],\n",
    "    [0, 1, 0]\n",
    "]\n",
    "\n",
    "N = len(cells)\n",
    "M = len(cells[0])"
   ]
  },
  {
   "cell_type": "markdown",
   "id": "5c6f47e1",
   "metadata": {},
   "source": [
    "## Construct coefficient matrix\n",
    "Construct coefficient matrix (called _A_) by setting each row appropriately. More precisely, each cell `cell(i, j)` in result matrix is sum of the following cells: \n",
    "    `cell(i, j) = cell(i, j) + cell(i, j - 1) + cell(i, j + 1) + cell(i - 1, j) + cell(i + 1, j)`\n",
    "\n",
    "So the i-th row in matrix _A_, except these elements which are set to one, others will be set to zero."
   ]
  },
  {
   "cell_type": "code",
   "execution_count": 82,
   "id": "869a9639",
   "metadata": {},
   "outputs": [],
   "source": [
    "def is_valid(N, M, i, j):\n",
    "    return 0 <= min(i, j) and i < N and j < M\n",
    "\n",
    "def get_corresponding_index(M, i, j):\n",
    "    return i * M + j\n",
    "\n",
    "def construct_coefficient_matrix(cells, N, M):\n",
    "    A = np.zeros((N * M, N * M), dtype=int)\n",
    "    \n",
    "    for i in range(N):\n",
    "        for j in range(M):\n",
    "            if is_valid(N, M, i, j - 1):\n",
    "                A[get_corresponding_index(M, i, j), get_corresponding_index(M, i, j - 1)] = 1\n",
    "            if is_valid(N, M, i, j + 1):\n",
    "                A[get_corresponding_index(M, i, j), get_corresponding_index(M, i, j + 1)] = 1\n",
    "            if is_valid(N, M, i - 1, j):\n",
    "                A[get_corresponding_index(M, i, j), get_corresponding_index(M, i - 1, j)] = 1\n",
    "            if is_valid(N, M, i + 1, j):\n",
    "                A[get_corresponding_index(M, i, j), get_corresponding_index(M, i + 1, j)] = 1\n",
    "            A[get_corresponding_index(M, i, j), get_corresponding_index(M, i, j)] = 1\n",
    "\n",
    "    return A\n",
    "\n",
    "A = construct_coefficient_matrix(cells, N, M)"
   ]
  },
  {
   "cell_type": "markdown",
   "id": "e9c45a67",
   "metadata": {},
   "source": [
    "## Construct b vector\n",
    "Construct right section of matrix equation (AX = b). By checking problem, we will find out that there are two possible _b_ vector. One is that a vector with all zero elements which is a representation of a final board with all white cells and one with all one elements. So we construct both vectors and try to find answer for each vector."
   ]
  },
  {
   "cell_type": "code",
   "execution_count": 99,
   "id": "7faf4770",
   "metadata": {},
   "outputs": [],
   "source": [
    "def construct_b_vector(N, M, cells):\n",
    "    zero_b = np.ones(N * M, dtype=int)\n",
    "    one_b = np.ones(N * M, dtype=int)\n",
    "    \n",
    "    for i in range(N):\n",
    "        for j in range(M):\n",
    "            if cells[i][j] == 1:\n",
    "                one_b[get_corresponding_index(M, i, j)] = 0\n",
    "            else:\n",
    "                zero_b[get_corresponding_index(M, i, j)] = 0\n",
    "    return (zero_b, one_b)\n",
    "\n",
    "zero_b, one_b = construct_b_vector(N, M, cells)"
   ]
  },
  {
   "cell_type": "markdown",
   "id": "dcff310b",
   "metadata": {},
   "source": [
    "## Construct augmented matrix\n",
    "Construct augmented matrix by concatenating A to b vector."
   ]
  },
  {
   "cell_type": "code",
   "execution_count": 100,
   "id": "298d3183",
   "metadata": {},
   "outputs": [],
   "source": [
    "def construct_augmented_matrix(A, b):\n",
    "    return np.concatenate((A, b.reshape(-1, 1)), axis=1)\n",
    "\n",
    "zero_augmented_matrix = construct_augmented_matrix(A, zero_b)\n",
    "one_augmented_matrix = construct_augmented_matrix(A, one_b)"
   ]
  },
  {
   "cell_type": "markdown",
   "id": "02a772ce",
   "metadata": {},
   "source": [
    "## Calculate a possible answer\n",
    "Calculate a possible answer for the constructed matrix equation."
   ]
  },
  {
   "cell_type": "code",
   "execution_count": 108,
   "id": "592ad453",
   "metadata": {},
   "outputs": [],
   "source": [
    "def compute_echelon_matrix(A):\n",
    "    assert len(A.shape) == 2\n",
    "    result = A.astype(int)\n",
    "    \n",
    "    topmost_row = 0\n",
    "    for j in range(result.shape[1]):\n",
    "        for i in range(topmost_row, result.shape[0]):\n",
    "            if result[i][j] != 0:\n",
    "                result[[topmost_row, i]] = result[[i, topmost_row]]\n",
    "                break\n",
    "        if result[topmost_row][j] == 0:\n",
    "            # this row and all rows at below are 0 at this column\n",
    "            continue\n",
    "            \n",
    "        # leading entry at this column is set to be at topmost_row-th,\n",
    "        # so the rows at below must be scaled and then subtracted by current row\n",
    "        for i in range(topmost_row + 1, result.shape[0]):\n",
    "            if result[i][j] == 0:\n",
    "                continue\n",
    "            \n",
    "            for col in range(j, result.shape[1]):\n",
    "                # first scale the element, the subtract it by the candidate entry\n",
    "                result[i][col] -= result[topmost_row][col]\n",
    "                result[i][col] %= 2\n",
    "                \n",
    "        topmost_row += 1\n",
    "        if topmost_row == result.shape[0]:\n",
    "            break\n",
    "    return result\n",
    "\n",
    "def compute_reduced_echelon_form(A):\n",
    "    assert len(A.shape) == 2\n",
    "    result = compute_echelon_matrix(A)\n",
    "    \n",
    "    bottommost_row = result.shape[0] - 1\n",
    "    while 0 <= bottommost_row:\n",
    "        leftmost_column = -1 # first we assume that all of this row's elements are all zero, otherwise we update this\n",
    "        for j in range(result.shape[1]):\n",
    "            if result[bottommost_row][j] != 0:\n",
    "                leftmost_column = j\n",
    "                break\n",
    "        \n",
    "        if leftmost_column == -1:\n",
    "            bottommost_row -= 1\n",
    "            continue\n",
    "        \n",
    "        # then subtract rows at top, such that all entries over the current leading entry\n",
    "        # become 0\n",
    "        for i in range(bottommost_row):\n",
    "            if result[i][leftmost_column] == 0:\n",
    "                continue\n",
    "            for j in range(leftmost_column, result.shape[1]):\n",
    "                result[i][j] -= result[bottommost_row][j]\n",
    "                result[i][j] %= 2\n",
    "        bottommost_row -= 1\n",
    "        \n",
    "    return result\n",
    "\n",
    "reduced_echelon_form_zero = compute_reduced_echelon_form(zero_augmented_matrix)\n",
    "reduced_echelon_form_one = compute_reduced_echelon_form(one_augmented_matrix)"
   ]
  },
  {
   "cell_type": "markdown",
   "id": "b8fd6c2b",
   "metadata": {},
   "source": [
    "## Compute constructed answers\n",
    "Compute constructed answers by extracting reduced echelon form matrices."
   ]
  },
  {
   "cell_type": "code",
   "execution_count": 110,
   "id": "90ca4cdd",
   "metadata": {},
   "outputs": [
    {
     "name": "stdout",
     "output_type": "stream",
     "text": [
      "A possible answer to make all cells white:\n",
      "[[0 1 1]\n",
      " [0 1 0]\n",
      " [0 0 0]]\n",
      "\n",
      "A possible answer to make all cells blue:\n",
      "[[1 1 0]\n",
      " [0 0 0]\n",
      " [1 0 1]]\n"
     ]
    }
   ],
   "source": [
    "def extract_a_possible_answer(reduced_echelon_form, N, M):\n",
    "    result = np.zeros((N, M))\n",
    "    does_answer_exist = True\n",
    "    for i in range(reduced_echelon_form.shape[0]):\n",
    "        all_zero = True\n",
    "        for j in range(reduced_echelon_form.shape[1] - 1):\n",
    "            if reduced_echelon_form[i][j] != 0:\n",
    "                all_zero = False\n",
    "                break\n",
    "        if all_zero and reduced_echelon_form[i][-1] != 0:\n",
    "            does_answer_exist = False\n",
    "            break\n",
    "    \n",
    "    if not does_answer_exist:\n",
    "        result[:, :] = -1\n",
    "        return result\n",
    "    \n",
    "    result = reduced_echelon_form[:, -1].reshape(N, M)\n",
    "    return result\n",
    "\n",
    "possible_answer_zero = extract_a_possible_answer(reduced_echelon_form_zero, N, M)\n",
    "possible_answer_one = extract_a_possible_answer(reduced_echelon_form_one, N, M)\n",
    "\n",
    "print(\"A possible answer to make all cells white:\")\n",
    "print(possible_answer_zero)\n",
    "print(\"\\nA possible answer to make all cells blue:\")\n",
    "print(possible_answer_one)"
   ]
  }
 ],
 "metadata": {
  "kernelspec": {
   "display_name": "Python 3 (ipykernel)",
   "language": "python",
   "name": "python3"
  },
  "language_info": {
   "codemirror_mode": {
    "name": "ipython",
    "version": 3
   },
   "file_extension": ".py",
   "mimetype": "text/x-python",
   "name": "python",
   "nbconvert_exporter": "python",
   "pygments_lexer": "ipython3",
   "version": "3.9.7"
  }
 },
 "nbformat": 4,
 "nbformat_minor": 5
}
